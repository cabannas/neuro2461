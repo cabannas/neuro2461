{
 "cells": [
  {
   "cell_type": "code",
   "execution_count": 2,
   "metadata": {},
   "outputs": [
    {
     "ename": "TypeError",
     "evalue": "__init__() takes 1 positional argument but 2 were given",
     "output_type": "error",
     "traceback": [
      "\u001b[0;31m---------------------------------------------------------------------------\u001b[0m",
      "\u001b[0;31mTypeError\u001b[0m                                 Traceback (most recent call last)",
      "\u001b[0;32m<ipython-input-2-241350d0100e>\u001b[0m in \u001b[0;36m<module>\u001b[0;34m\u001b[0m\n\u001b[1;32m     15\u001b[0m \u001b[0;34m\u001b[0m\u001b[0m\n\u001b[1;32m     16\u001b[0m \u001b[0;31m#Creando las Neuronas\u001b[0m\u001b[0;34m\u001b[0m\u001b[0;34m\u001b[0m\u001b[0;34m\u001b[0m\u001b[0m\n\u001b[0;32m---> 17\u001b[0;31m \u001b[0mcapa0\u001b[0m \u001b[0;34m=\u001b[0m \u001b[0mnp\u001b[0m\u001b[0;34m.\u001b[0m\u001b[0marray\u001b[0m\u001b[0;34m(\u001b[0m\u001b[0;34m[\u001b[0m\u001b[0mNeuronaMPX\u001b[0m\u001b[0;34m(\u001b[0m\u001b[0;36m1\u001b[0m\u001b[0;34m)\u001b[0m\u001b[0;34m,\u001b[0m\u001b[0mNeuronaMPX\u001b[0m\u001b[0;34m(\u001b[0m\u001b[0;36m1\u001b[0m\u001b[0;34m)\u001b[0m\u001b[0;34m,\u001b[0m\u001b[0mNeuronaMPX\u001b[0m\u001b[0;34m(\u001b[0m\u001b[0;36m1\u001b[0m\u001b[0;34m)\u001b[0m\u001b[0;34m]\u001b[0m\u001b[0;34m)\u001b[0m\u001b[0;34m\u001b[0m\u001b[0;34m\u001b[0m\u001b[0m\n\u001b[0m\u001b[1;32m     18\u001b[0m \u001b[0mcapa1\u001b[0m \u001b[0;34m=\u001b[0m \u001b[0mnp\u001b[0m\u001b[0;34m.\u001b[0m\u001b[0marray\u001b[0m\u001b[0;34m(\u001b[0m\u001b[0;34m[\u001b[0m\u001b[0mNeuronaMPZ\u001b[0m\u001b[0;34m(\u001b[0m\u001b[0;36m2\u001b[0m\u001b[0;34m)\u001b[0m\u001b[0;34m,\u001b[0m\u001b[0mNeuronaMPZ\u001b[0m\u001b[0;34m(\u001b[0m\u001b[0;36m2\u001b[0m\u001b[0;34m)\u001b[0m\u001b[0;34m,\u001b[0m\u001b[0mNeuronaMPZ\u001b[0m\u001b[0;34m(\u001b[0m\u001b[0;36m2\u001b[0m\u001b[0;34m)\u001b[0m\u001b[0;34m]\u001b[0m\u001b[0;34m)\u001b[0m\u001b[0;34m\u001b[0m\u001b[0;34m\u001b[0m\u001b[0m\n\u001b[1;32m     19\u001b[0m \u001b[0mcapa2\u001b[0m \u001b[0;34m=\u001b[0m \u001b[0mnp\u001b[0m\u001b[0;34m.\u001b[0m\u001b[0marray\u001b[0m\u001b[0;34m(\u001b[0m\u001b[0;34m[\u001b[0m\u001b[0mNeuronaMPZ\u001b[0m\u001b[0;34m(\u001b[0m\u001b[0;36m2\u001b[0m\u001b[0;34m)\u001b[0m\u001b[0;34m,\u001b[0m\u001b[0mNeuronaMPZ\u001b[0m\u001b[0;34m(\u001b[0m\u001b[0;36m2\u001b[0m\u001b[0;34m)\u001b[0m\u001b[0;34m,\u001b[0m\u001b[0mNeuronaMPZ\u001b[0m\u001b[0;34m(\u001b[0m\u001b[0;36m2\u001b[0m\u001b[0;34m)\u001b[0m\u001b[0;34m,\u001b[0m\u001b[0mNeuronaMPZ\u001b[0m\u001b[0;34m(\u001b[0m\u001b[0;36m2\u001b[0m\u001b[0;34m)\u001b[0m\u001b[0;34m,\u001b[0m\u001b[0mNeuronaMPZ\u001b[0m\u001b[0;34m(\u001b[0m\u001b[0;36m2\u001b[0m\u001b[0;34m)\u001b[0m\u001b[0;34m,\u001b[0m\u001b[0mNeuronaMPZ\u001b[0m\u001b[0;34m(\u001b[0m\u001b[0;36m2\u001b[0m\u001b[0;34m)\u001b[0m\u001b[0;34m]\u001b[0m\u001b[0;34m)\u001b[0m\u001b[0;34m\u001b[0m\u001b[0;34m\u001b[0m\u001b[0m\n",
      "\u001b[0;31mTypeError\u001b[0m: __init__() takes 1 positional argument but 2 were given"
     ]
    }
   ],
   "source": [
    "##\n",
    "import numpy as np\n",
    "from Neurona import *\n",
    "from Enlace import *\n",
    "\n",
    "#Lectura de fichero\n",
    "f = open(\"McCulloch_Pitts.in\")\n",
    "lineas_entrada = f.readlines()\n",
    "f.close()\n",
    "entradas = np.empty((0,3), int)\n",
    "\n",
    "for linea in lineas_entrada:\n",
    "    entradas = np.concatenate((entradas, [list(map(int,linea.replace(\"\\n\",\"\").split(\" \")))]))\n",
    "entradas = np.concatenate((entradas, [[0,0,0],[0,0,0]]))\n",
    "\n",
    "#Creando las Neuronas\n",
    "capa0 = np.array([NeuronaMPX(1),NeuronaMPX(1),NeuronaMPX(1)])\n",
    "capa1 = np.array([NeuronaMPZ(2),NeuronaMPZ(2),NeuronaMPZ(2)])\n",
    "capa2 = np.array([NeuronaMPZ(2),NeuronaMPZ(2),NeuronaMPZ(2),NeuronaMPZ(2),NeuronaMPZ(2),NeuronaMPZ(2)])\n",
    "capa3 = np.array([NeuronaMPY(2),NeuronaMPY(2)])\n",
    "\n",
    "#Creando los Enlaces\n",
    "for i,neurona in enumerate(capa0):\n",
    "    enlace = Enlace(2,capa0[i],capa1[i])\n",
    "    capa0[i].addEnlaceSalida(enlace)\n",
    "    \n",
    "enlace1 = Enlace(1,capa0[0],capa2[2])\n",
    "enlace2 = Enlace(1,capa0[0],capa2[-1])\n",
    "capa0[0].addEnlaceSalida(enlace1)\n",
    "capa0[0].addEnlaceSalida(enlace2)\n",
    "enlace1 = Enlace(1,capa0[1],capa2[1])\n",
    "enlace2 = Enlace(1,capa0[1],capa2[-2])\n",
    "capa0[1].addEnlaceSalida(enlace1)\n",
    "capa0[1].addEnlaceSalida(enlace2)\n",
    "enlace1 = Enlace(1,capa0[2],capa2[0])\n",
    "enlace2 = Enlace(1,capa0[2],capa2[3])\n",
    "capa0[2].addEnlaceSalida(enlace1)\n",
    "capa0[2].addEnlaceSalida(enlace2)\n",
    "\n",
    "for i,neurona in enumerate(capa1):\n",
    "    enlace1 = Enlace(1,capa1[i],capa2[2*i])\n",
    "    enlace2 = Enlace(1,capa1[i],capa2[2*i+1])\n",
    "    capa1[i].addEnlaceSalida(enlace1)\n",
    "    capa1[i].addEnlaceSalida(enlace2)\n",
    "\n",
    "for i,neurona in enumerate(capa2):\n",
    "    if i%2 == 0:\n",
    "        enlace = Enlace(2,capa2[i],capa3[0])\n",
    "        capa2[i].addEnlaceSalida(enlace)\n",
    "    else:\n",
    "        enlace = Enlace(2,capa2[i],capa3[1])\n",
    "        capa2[i].addEnlaceSalida(enlace)\n",
    "    \n",
    "salida = np.array([])\n",
    "capasIntermedias = np.array([capa1,capa2])\n",
    "\n",
    "#Abrimos el fichero de escritura\n",
    "f = open(\"out.txt\", \"w\")\n",
    "\n",
    "#Ejecutamos la red Neuronal\n",
    "for j,entrada in enumerate(entradas):\n",
    "    for i,neurona in enumerate(capa0):\n",
    "        neurona.recibirSenal(entrada[i])\n",
    "    for capa in capasIntermedias:\n",
    "        for neurona in capa:\n",
    "            neurona.funcionActivacion()\n",
    "    for k, neurona in enumerate(capa3):\n",
    "        f.write(str(neurona.funcionActivacion()))\n",
    "        if(k < capa3.size-1):\n",
    "            f.write(\" \")\n",
    "    if(j < entradas.shape[0]-1):\n",
    "        f.write(\"\\n\")\n",
    "        \n",
    "f.close()\n"
   ]
  },
  {
   "cell_type": "code",
   "execution_count": 33,
   "metadata": {},
   "outputs": [
    {
     "name": "stdout",
     "output_type": "stream",
     "text": [
      "[]\n"
     ]
    },
    {
     "data": {
      "text/plain": [
       "array([[9, 8, 7],\n",
       "       [6, 5, 4]])"
      ]
     },
     "execution_count": 33,
     "metadata": {},
     "output_type": "execute_result"
    }
   ],
   "source": [
    "import numpy as np\n",
    "a = np.empty((0,3),int)\n",
    "print(a)\n",
    "b = np.array([[9, 8, 7], [6, 5, 4]])\n",
    "np.concatenate((a, b))"
   ]
  },
  {
   "cell_type": "code",
   "execution_count": null,
   "metadata": {},
   "outputs": [],
   "source": []
  }
 ],
 "metadata": {
  "kernelspec": {
   "display_name": "Python 3",
   "language": "python",
   "name": "python3"
  },
  "language_info": {
   "codemirror_mode": {
    "name": "ipython",
    "version": 3
   },
   "file_extension": ".py",
   "mimetype": "text/x-python",
   "name": "python",
   "nbconvert_exporter": "python",
   "pygments_lexer": "ipython3",
   "version": "3.7.3"
  }
 },
 "nbformat": 4,
 "nbformat_minor": 2
}
